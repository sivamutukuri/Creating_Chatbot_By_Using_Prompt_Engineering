{
  "nbformat": 4,
  "nbformat_minor": 0,
  "metadata": {
    "colab": {
      "provenance": []
    },
    "kernelspec": {
      "name": "python3",
      "display_name": "Python 3"
    },
    "language_info": {
      "name": "python"
    }
  },
  "cells": [
    {
      "cell_type": "code",
      "execution_count": null,
      "metadata": {
        "colab": {
          "base_uri": "https://localhost:8080/"
        },
        "id": "SN4trTopaPUh",
        "outputId": "70cd97a9-08f6-4687-bd2d-2c206e0fc163"
      },
      "outputs": [
        {
          "output_type": "stream",
          "name": "stdout",
          "text": [
            "Requirement already satisfied: PyPDF2 in /usr/local/lib/python3.11/dist-packages (3.0.1)\n"
          ]
        }
      ],
      "source": [
        "!pip install PyPDF2\n"
      ]
    },
    {
      "cell_type": "code",
      "source": [
        "!pip install pymupdf\n"
      ],
      "metadata": {
        "colab": {
          "base_uri": "https://localhost:8080/"
        },
        "id": "SWJWmmPKdmJs",
        "outputId": "31c12e91-15d8-4fa9-8c8c-52b7c1aff54e"
      },
      "execution_count": null,
      "outputs": [
        {
          "output_type": "stream",
          "name": "stdout",
          "text": [
            "Requirement already satisfied: pymupdf in /usr/local/lib/python3.11/dist-packages (1.25.5)\n"
          ]
        }
      ]
    },
    {
      "cell_type": "code",
      "source": [
        "import fitz\n",
        "doc=fitz.open('company_annual_report.pdf')\n",
        "for page in range(len(doc)):\n",
        "  pages=doc.load_page(page)\n",
        "  text=pages.get_text()\n",
        "  print(text)\n",
        "  print(f'Pages:{page+1}')"
      ],
      "metadata": {
        "colab": {
          "base_uri": "https://localhost:8080/"
        },
        "id": "xFZI41Spdmpe",
        "outputId": "fd16edbd-242a-4b23-91bd-c3cc03a20bdb"
      },
      "execution_count": null,
      "outputs": [
        {
          "output_type": "stream",
          "name": "stdout",
          "text": [
            "Company Annual Report - 2024 \n",
            " \n",
            " \n",
            " \n",
            "Company Overview \n",
            " \n",
            "XYZ Corporation is a leading global technology company specializing in artificial intelligence, cloud \n",
            "computing, and digital transformation solutions. With over two decades of innovation, XYZ \n",
            "Corporation has served clients in over 50 countries, helping businesses optimize their operations \n",
            "and embrace the future of technology. The company is committed to delivering cutting-edge \n",
            "products while maintaining a strong focus on sustainability and corporate responsibility. \n",
            " \n",
            "Market Analysis \n",
            " \n",
            "The technology sector continues to witness significant growth, with an increased demand for cloud \n",
            "computing, AI-driven automation, and cybersecurity solutions. As businesses worldwide undergo \n",
            "digital transformation, XYZ Corporation is well-positioned to capitalize on these emerging trends. \n",
            "The global AI market is expected to grow at a CAGR of 35% over the next five years, with XYZ \n",
            "Corporation aiming to expand its market share through strategic acquisitions and product \n",
            "innovations. \n",
            " \n",
            "Financial Highlights \n",
            "The company achieved record-breaking revenue and profitability in 2024, showcasing robust \n",
            "financial health and sustainable business growth. \n",
            " \n",
            "Metric \n",
            "Value \n",
            " \n",
            "Revenue \n",
            "$16.3 Billion \n",
            " \n",
            " \n",
            "Net Profit \n",
            "$2.5 Billion \n",
            " \n",
            " \n",
            "EPS \n",
            "$6.12 \n",
            " \n",
            " \n",
            "Market Cap \n",
            "$150 Billion \n",
            " \n",
            " \n",
            "R&D Investment \n",
            "$2.0 Billion \n",
            " \n",
            " \n",
            "Employee Count \n",
            "45,000 \n",
            " \n",
            " \n",
            "Revenue Growth (2020-2024) \n",
            "\n",
            "Pages:1\n",
            "Over the past five years, XYZ Corporation has experienced steady revenue growth, driven by market \n",
            "expansion, technological innovation, and increased demand. The revenue grew by an average of 12% \n",
            "annually, with the highest growth recorded in 2024 due to strategic acquisitions and increased global \n",
            "market share. \n",
            " \n",
            " \n",
            " \n",
            " \n",
            " \n",
            " \n",
            " \n",
            " \n",
            " \n",
            " \n",
            " \n",
            " \n",
            " \n",
            " \n",
            " \n",
            " \n",
            " \n",
            " \n",
            " \n",
            " \n",
            " \n",
            " \n",
            " \n",
            "Figure 1: Revenue Growth (2020-2024) \n",
            "Revenue Breakdown by Segment \n",
            "XYZ Corporation derives revenue from multiple business segments, including Technology Solutions, \n",
            "Financial Services, and Emerging Markets. The highest revenue contribution comes from Technology \n",
            "Solutions, making up 45% of the total revenue, followed by Financial Services at 35% and Emerging \n",
            "Markets at 20%. \n",
            "  \n",
            " \n",
            " \n",
            " \n",
            " \n",
            " \n",
            " \n",
            " \n",
            " \n",
            " \n",
            " \n",
            " \n",
            " \n",
            " \n",
            " \n",
            " \n",
            " \n",
            " \n",
            " \n",
            "\n",
            "Pages:2\n",
            " \n",
            " \n",
            "Figure 2: Revenue Breakdown by Segment \n",
            " \n",
            " \n",
            " \n",
            "Sustainability Initiatives \n",
            " \n",
            "XYZ Corporation remains committed to sustainability and corporate social responsibility. In 2024, the \n",
            "company pledged to reduce its carbon footprint by 30% through the adoption of renewable energy \n",
            "sources and green data centers. Additionally, XYZ Corporation has launched multiple community \n",
            "engagement programs, focusing on digital education and technological empowerment for \n",
            "underprivileged communities. \n",
            "Key Strategic Initiatives \n",
            "1. Expansion into AI-driven services and automation.​\n",
            "2. Strengthening research and development investments.​\n",
            "3. Sustainable business practices to reduce carbon footprint.​\n",
            "4. Enhancing customer engagement through digital transformation.​\n",
            "5. Global partnerships to expand market reach. \n",
            "Future Outlook \n",
            " \n",
            "Looking ahead, XYZ Corporation plans to further its expansion into emerging markets, invest in \n",
            "AI-powered business solutions, and enhance its cybersecurity offerings. With a strong foundation \n",
            "and a dedicated workforce, the company aims to drive innovation and set new industry benchmarks \n",
            "in the coming years. \n",
            " \n",
            "Leadership Message \n",
            " \n",
            "Dear Shareholders and Partners, \n",
            " \n",
            " \n",
            "As we reflect on a year of tremendous growth and achievement, we remain committed to our \n",
            "mission of driving innovation and creating value for our stakeholders. Our investments in AI, cloud \n",
            "computing, and sustainability will continue to be the pillars of our strategy. The future holds \n",
            "immense potential, and we look forward to collaborating with our employees, customers, and \n",
            "investors to build a smarter and more sustainable world. \n",
            " \n",
            " \n",
            "Best regards, \n",
            " \n",
            "John Doe, CEO, XYZ Corporation \n",
            "\n",
            "Pages:3\n"
          ]
        }
      ]
    },
    {
      "cell_type": "code",
      "source": [
        "from PIL import Image\n",
        "image1=Image.open('/content/Screenshot 2025-05-06 204853.png')\n",
        "image2=Image.open('/content/Screenshot 2025-05-06 205032.png')\n",
        "image3=Image.open('/content/Screenshot 2025-05-06 205056.png')\n"
      ],
      "metadata": {
        "id": "WaZ_EBhLPnwU"
      },
      "execution_count": null,
      "outputs": []
    },
    {
      "cell_type": "code",
      "source": [
        "print(image1)\n",
        "print(image2)\n",
        "print(image3)"
      ],
      "metadata": {
        "colab": {
          "base_uri": "https://localhost:8080/"
        },
        "id": "fLBPrZrLVCqz",
        "outputId": "6497ed77-83d7-4c1a-9816-82196d34ec21"
      },
      "execution_count": null,
      "outputs": [
        {
          "output_type": "stream",
          "name": "stdout",
          "text": [
            "<PIL.PngImagePlugin.PngImageFile image mode=RGBA size=886x402 at 0x7AC07C755E90>\n",
            "<PIL.PngImagePlugin.PngImageFile image mode=RGBA size=1459x944 at 0x7AC06C6EE750>\n",
            "<PIL.PngImagePlugin.PngImageFile image mode=RGBA size=659x424 at 0x7AC06C6EEC50>\n"
          ]
        }
      ]
    },
    {
      "cell_type": "code",
      "source": [
        "from openai import OpenAI\n",
        "client=OpenAI(api_key=\"sk-aTDEkiFt5ejpyIVNcp1ZVn9W6Sw0TtdfhmY49mT3BlJ3kmsRtE8xAaZBr87M1e84orMn2Fe32jS6pz_l8A\")\n",
        "def chat(prompt,questions):\n",
        "  Response=client.chat.completions.create(\n",
        "      model='gpt-4.1',\n",
        "      messages=[{'role':'system','content':'You are a helpful assistant like a chatbot.'},\n",
        "           {'role':'user','content':prompt},\n",
        "                {'role':'user','content':questions}]\n",
        "  )\n",
        "  return print(Response.choices[0].message.content)\n"
      ],
      "metadata": {
        "id": "UZ4KoZO4pBD7"
      },
      "execution_count": null,
      "outputs": []
    },
    {
      "cell_type": "code",
      "source": [
        "prompt=text\n",
        "questions='''can you give accurate answers to my questions\n",
        "can you tell me about company in clear way'''\n",
        "chat(prompt,questions)"
      ],
      "metadata": {
        "colab": {
          "base_uri": "https://localhost:8080/"
        },
        "id": "N2_-IRb5z-YM",
        "outputId": "7646b3a8-ccd0-4d5d-8589-0779517d2b44"
      },
      "execution_count": null,
      "outputs": [
        {
          "output_type": "stream",
          "name": "stdout",
          "text": [
            "Absolutely! Here’s a clear summary of XYZ Corporation based on the information provided:\n",
            "\n",
            "---\n",
            "\n",
            "**About XYZ Corporation**\n",
            "\n",
            "XYZ Corporation is a forward-thinking company dedicated to innovation, sustainability, and technological empowerment. Key highlights include:\n",
            "\n",
            "### Revenue Breakdown  \n",
            "XYZ has multiple business segments generating revenue (though the figure itself is not shown here).\n",
            "\n",
            "### Sustainability Initiatives  \n",
            "- **Environmental Commitment:** In 2024, pledged to reduce its carbon footprint by 30% by adopting renewable energy and green data centers.\n",
            "- **Community Programs:** Launches civic initiatives, especially focused on digital education and technology access for underprivileged groups.\n",
            "\n",
            "### Key Strategic Initiatives  \n",
            "1. Expanding into AI-based services and automation.\n",
            "2. Increasing investment in research and development.\n",
            "3. Promoting sustainable, eco-friendly business practices.\n",
            "4. Improving customer dealings through digital transformation.\n",
            "5. Forming partnerships worldwide to reach new markets.\n",
            "\n",
            "### Future Plans  \n",
            "- Expanding further into AI and emerging markets.\n",
            "- Enhancing cybersecurity solutions.\n",
            "- Continuing to drive innovation with a dedicated workforce.\n",
            "\n",
            "### Leadership Message  \n",
            "The CEO, John Doe, emphasizes a commitment to innovation, value creation, and sustainability. He looks forward to collaborating with stakeholders to build a smarter, more sustainable future.\n",
            "\n",
            "---\n",
            "\n",
            "**In summary:**  \n",
            "XYZ Corporation is a tech-focused company investing in AI, sustainability, and social responsibility, aiming for global growth and industry leadership in the coming years.\n",
            "\n",
            "---\n",
            "\n",
            "Feel free to ask more specific questions!\n"
          ]
        }
      ]
    },
    {
      "cell_type": "code",
      "source": [
        "prompt=text\n",
        "questions='''can you give accurate answers to my questions\n",
        "  What were the company’s total revenues in 2024(understand the graphs and tables and provide correct details)?\n",
        "● What are the key strategic initiatives mentioned in the report?\n",
        "● Who is the CEO of the company?\n",
        "● What are the company’s plans for sustainability?\n",
        "● How did the company perform in terms of research and development\n",
        "investment?'''\n",
        "chat(prompt,questions)\n"
      ],
      "metadata": {
        "colab": {
          "base_uri": "https://localhost:8080/"
        },
        "id": "OPkxeJIkBciD",
        "outputId": "b399835c-3eec-4273-f3a0-9bbad000a75a"
      },
      "execution_count": null,
      "outputs": [
        {
          "output_type": "stream",
          "name": "stdout",
          "text": [
            "Certainly! Based on the information provided in your message, here are the answers:\n",
            "\n",
            "### 1. What were the company’s total revenues in 2024?\n",
            "*Unfortunately, the exact total revenues figure for XYZ Corporation in 2024 cannot be determined from the text provided. While there is a reference to \"Figure 2: Revenue Breakdown by Segment,\" the actual graph, table, or numerical breakdown is not included in your message. To provide an accurate number, I would need to see the specific data or chart.*\n",
            "\n",
            "### 2. What are the key strategic initiatives mentioned in the report?\n",
            "The key strategic initiatives highlighted are:\n",
            "1. **Expansion into AI-driven services and automation**\n",
            "2. **Strengthening research and development investments**\n",
            "3. **Sustainable business practices to reduce carbon footprint**\n",
            "4. **Enhancing customer engagement through digital transformation**\n",
            "5. **Global partnerships to expand market reach**\n",
            "\n",
            "### 3. Who is the CEO of the company?\n",
            "**John Doe** is the CEO of XYZ Corporation.\n",
            "\n",
            "### 4. What are the company’s plans for sustainability?\n",
            "XYZ Corporation’s sustainability commitments include:\n",
            "- Pledging to reduce its carbon footprint by 30% in 2024 through adopting renewable energy and green data centers.\n",
            "- Launching community engagement programs focused on digital education and technological empowerment for underprivileged communities.\n",
            "- Prioritizing sustainable business practices as a key strategic initiative.\n",
            "\n",
            "### 5. How did the company perform in terms of research and development investment?\n",
            "The report emphasizes **strengthening research and development investments** as a key strategic initiative and a pillar of the company's strategy. However, there are **no specific figures or performance metrics provided** in the text about the amount spent or results achieved in R&D for 2024.\n",
            "\n",
            "---\n",
            "**Summary:**  \n",
            "- The exact total revenue for 2024 is not provided in the text you shared.\n",
            "- The five strategic initiatives are listed above.\n",
            "- John Doe is the CEO.\n",
            "- The company’s sustainability plans are focused on reducing carbon emissions, using renewables, and community engagement.\n",
            "- While R&D is a focus area, no specific performance data is available in the provided text.\n",
            "\n",
            "If you can provide the actual revenue table or graph, I can specify the 2024 revenue figure for you!\n"
          ]
        }
      ]
    },
    {
      "cell_type": "markdown",
      "source": [
        "# Using  Gemini"
      ],
      "metadata": {
        "id": "W4A1jSbHae4L"
      }
    },
    {
      "cell_type": "code",
      "source": [
        "import google.generativeai as genai\n",
        "genai.configure(api_key='AIzaSyDeWbYHqvrzK7rCHc4FJ5f4o')\n",
        "model=genai.GenerativeModel('gemini-1.5-flash')\n",
        "chat=model.start_chat()\n",
        "response1=chat.send_message(text)\n",
        "response2=chat.send_message(['understand the images',image1,image2,image3])\n",
        "response3=chat.send_message(questions)\n",
        "print(response3.text)"
      ],
      "metadata": {
        "colab": {
          "base_uri": "https://localhost:8080/",
          "height": 332
        },
        "id": "u6H4aPpnJSp7",
        "outputId": "fc492b84-8b98-4034-be15-90db985bb0bf"
      },
      "execution_count": null,
      "outputs": [
        {
          "output_type": "stream",
          "name": "stdout",
          "text": [
            "Based on the provided text and images:\n",
            "\n",
            "* **What were the company’s total revenues in 2024?**  $16.3 billion.  This is explicitly stated in the table of key financial metrics.\n",
            "\n",
            "* **What are the key strategic initiatives mentioned in the report?**\n",
            "    * Expansion into AI-driven services and automation.\n",
            "    * Strengthening research and development investments.\n",
            "    * Sustainable business practices to reduce the carbon footprint.\n",
            "    * Enhancing customer engagement through digital transformation.\n",
            "    * Global partnerships to expand market reach.\n",
            "\n",
            "* **Who is the CEO of the company?** John Doe. This is clearly stated in the Leadership Message.\n",
            "\n",
            "* **What are the company’s plans for sustainability?**  In 2024, XYZ Corporation pledged to reduce its carbon footprint by 30% through renewable energy sources and green data centers.  They also launched community engagement programs focused on digital education and technological empowerment for underprivileged communities.  Note that specific timelines or measurable goals for these initiatives are not provided.\n",
            "\n",
            "* **How did the company perform in terms of research and development investment?** The company invested $2.0 billion in R&D.  While this is a substantial amount, there's no information provided on whether this represents an increase or decrease from previous years, or how it compares to industry benchmarks.  Therefore, we can only state the amount, not judge the \"performance\" without additional context.\n",
            "\n"
          ]
        }
      ]
    }
  ]
}